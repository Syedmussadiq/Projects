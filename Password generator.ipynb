{
 "cells": [
  {
   "cell_type": "markdown",
   "id": "0a79a137",
   "metadata": {},
   "source": [
    "# Password Generator In Python"
   ]
  },
  {
   "cell_type": "markdown",
   "id": "9a60afae",
   "metadata": {},
   "source": [
    "Tkinter -  is a standard GUI library and is one of the easiest ways to build a GUI application.\n",
    "pyperclip -  module allows us to copy and paste text to and from the clipboard to your computer\n",
    "The random  - module can generate random numbers\n",
    "string - module contains a number of functions to process the standard python string.\n",
    "\n",
    "To install the libraries we can use pip installer from the command line:"
   ]
  },
  {
   "cell_type": "code",
   "execution_count": 2,
   "id": "22e25491",
   "metadata": {},
   "outputs": [
    {
     "name": "stdout",
     "output_type": "stream",
     "text": [
      "Requirement already satisfied: tk in c:\\users\\user\\anaconda3\\lib\\site-packages (0.1.0)\n",
      "Requirement already satisfied: pyperclip in c:\\users\\user\\anaconda3\\lib\\site-packages (1.8.2)\n"
     ]
    }
   ],
   "source": [
    "!pip install tk\n",
    "!pip install pyperclip\n",
    "!pip install random\n",
    "!pip install strings"
   ]
  },
  {
   "cell_type": "markdown",
   "id": "2457d897",
   "metadata": {},
   "source": [
    "# Steps to create random password generator"
   ]
  },
  {
   "cell_type": "code",
   "execution_count": 2,
   "id": "d1fb3ab3",
   "metadata": {},
   "outputs": [],
   "source": [
    "#The first step is to import libraries\n",
    "\n",
    "from tkinter import *\n",
    "import random, string\n",
    "import pyperclip"
   ]
  },
  {
   "cell_type": "code",
   "execution_count": null,
   "id": "2aefb990",
   "metadata": {},
   "outputs": [],
   "source": [
    "#Initialize Window\n",
    "\n",
    "root = Tk() #initialized tkinter which means window created\n",
    "root.geometry(\"400x400\") #set the width and height of the window\n",
    "root.resizable(0,0) #set the fixed size of the window\n",
    "root.title(\"SyeMus - PASSWORD GENERATOR\") #title() set the title of the window\n",
    "\n",
    "#Label() widget use to display one or more than one line of text that users can’t able to modify.\n",
    "\n",
    "Label(root, text = 'PASSWORD GENERATOR BY SYEMUS' , font ='arial 15 bold').pack()\n",
    "Label(root, text ='SyeMus', font ='arial 15 bold').pack(side = BOTTOM)\n",
    "\n",
    "#Selecting Password Length\n",
    "pass_label = Label(root, text = 'PASSWORD LENGTH', font = 'arial 10 bold').pack()\n",
    "pass_len = IntVar() #is an integer type variable that stores the length of a password.To select the password length we use Spinbox() widget.\n",
    "length = Spinbox(root, from_ = 7, to_ = 30 , textvariable = pass_len , width = 15).pack() #widget is used to select from a fixed number of values. Here the value from 7to30\n",
    "\n",
    "#Function to Generate Password\n",
    "pass_str = StringVar()\n",
    "def Generator():\n",
    "    password = ''\n",
    "    \n",
    "    for x in range (0,4):\n",
    "        password = random.choice(string.ascii_uppercase) + random.choice(string.ascii_lowercase) + random.choice(string.digits) + random.choice(string.punctuation)\n",
    "    for y in range(pass_len.get()- 4):\n",
    "        password = password + random.choice(string.ascii_uppercase + string.ascii_lowercase + string.digits + string.punctuation)\n",
    "    pass_str.set(password)\n",
    "#We have done this because we want a password which must contain an uppercase, a lowercase, a digit, and a special symbol.\n",
    "\n",
    "#Now the password is set to the pass_str() variable.\n",
    "Button (root, text = \"GENERATE PASSWORD\", command = Generator).pack(pady=7)\n",
    "Entry(root, textvariable = pass_str).pack()\n",
    "\n",
    "#Function to Copy Password\n",
    "def Copy_password():\n",
    "    pyperclip.copy(pass_str.get()) #used to copy the text to clipboard\n",
    "Button(root, text = 'COPY TO CLIPBOARD', command = Copy_password).pack(pady=7)\n",
    "\n",
    "root.mainloop()"
   ]
  },
  {
   "attachments": {
    "image.png": {
     "image/png": "[encoded data removed]"
    }
   },
   "cell_type": "markdown",
   "id": "3d1ddde6",
   "metadata": {},
   "source": [
    "![image.png](attachment:image.png)"
   ]
  }
 ],
 "metadata": {
  "kernelspec": {
   "display_name": "Python 3 (ipykernel)",
   "language": "python",
   "name": "python3"
  },
  "language_info": {
   "codemirror_mode": {
    "name": "ipython",
    "version": 3
   },
   "file_extension": ".py",
   "mimetype": "text/x-python",
   "name": "python",
   "nbconvert_exporter": "python",
   "pygments_lexer": "ipython3",
   "version": "3.9.7"
  }
 },
 "nbformat": 4,
 "nbformat_minor": 5
}
